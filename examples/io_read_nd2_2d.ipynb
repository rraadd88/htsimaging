{
 "cells": [
  {
   "cell_type": "markdown",
   "id": "9356e641-2652-4201-9c14-afc3250b7790",
   "metadata": {},
   "source": [
    "---\n",
    "## 💾 Reading the channels from Nikon microscope images with `.nd2` format"
   ]
  },
  {
   "cell_type": "code",
   "execution_count": null,
   "id": "8ecbdfa8-153d-479c-8f2d-3a32ad8de9f7",
   "metadata": {},
   "outputs": [],
   "source": [
    "## requirements\n",
    "import logging\n",
    "logging.getLogger().setLevel(logging.INFO)\n",
    "\n",
    "import pandas as pd\n",
    "import matplotlib.pyplot as plt\n",
    "from os.path import dirname,splitext\n",
    "from os import makedirs\n",
    "\n",
    "#!pip install nd2\n",
    "import nd2 \n",
    "import numpy as np"
   ]
  },
  {
   "cell_type": "code",
   "execution_count": null,
   "id": "f99c370c-7d0b-4bf4-9733-8760267e9df7",
   "metadata": {
    "tags": [
     "parameters"
    ]
   },
   "outputs": [],
   "source": [
    "## parameters\n",
    "input_path=None\n",
    "output_path=None\n",
    "zstack=None"
   ]
  },
  {
   "cell_type": "code",
   "execution_count": null,
   "id": "e42ac4ba-b715-4f57-b938-6a16d6d14635",
   "metadata": {},
   "outputs": [],
   "source": [
    "## inferred parameters\n",
    "assert dirname(output_path).endswith('channels')\n",
    "output_dir_path=dirname(output_path)+'/'\n",
    "logging.info(output_dir_path)"
   ]
  },
  {
   "cell_type": "code",
   "execution_count": null,
   "id": "b89e1e6e-2dd6-4a42-b413-41f30dc02517",
   "metadata": {},
   "outputs": [],
   "source": [
    "f1 = nd2.ND2File(input_path)"
   ]
  },
  {
   "cell_type": "markdown",
   "id": "1f85bab5-664c-4a43-9aa9-7dbd34676234",
   "metadata": {
    "tags": []
   },
   "source": [
    "## Image info"
   ]
  },
  {
   "cell_type": "code",
   "execution_count": null,
   "id": "f4fc8d29-ad63-4140-91b3-03c47b92b114",
   "metadata": {
    "scrolled": true,
    "tags": []
   },
   "outputs": [],
   "source": [
    "print(('\\n'+'-'*50+'\\n').join([f\"{k}\\n{'-'*50}\\n{v}\" for k,v in f1.text_info.items()]))"
   ]
  },
  {
   "cell_type": "markdown",
   "id": "a6c1c95c-61cd-43f9-9057-051d11fe7305",
   "metadata": {},
   "source": [
    "### Dimensions"
   ]
  },
  {
   "cell_type": "code",
   "execution_count": null,
   "id": "73e6b318-a1f7-4ddf-a547-95aa7a370c27",
   "metadata": {
    "tags": []
   },
   "outputs": [],
   "source": [
    "print(f1.sizes)"
   ]
  },
  {
   "cell_type": "markdown",
   "id": "a7d88097-2221-4a38-9b23-bbbbf37fb66e",
   "metadata": {},
   "source": [
    "### Channel names"
   ]
  },
  {
   "cell_type": "code",
   "execution_count": null,
   "id": "12d13301-abe6-4233-86f6-8b18b48b975b",
   "metadata": {
    "papermill": {
     "duration": 0.007727,
     "end_time": "2023-11-27T21:39:31.817738",
     "exception": false,
     "start_time": "2023-11-27T21:39:31.810011",
     "status": "completed"
    },
    "tags": []
   },
   "outputs": [],
   "source": [
    "channels={d.channel.index:d.channel.name.lower() for d in f1.metadata.channels}\n",
    "logging.info(channels)"
   ]
  },
  {
   "cell_type": "markdown",
   "id": "e9730175-0bb8-4b67-a57c-afdb51f2a7c9",
   "metadata": {},
   "source": [
    "### Dimension names"
   ]
  },
  {
   "cell_type": "code",
   "execution_count": null,
   "id": "5059c536-da03-4023-9160-7f534b4fe8ee",
   "metadata": {
    "papermill": {
     "duration": 0.006059,
     "end_time": "2023-11-27T21:39:31.825263",
     "exception": false,
     "start_time": "2023-11-27T21:39:31.819204",
     "status": "completed"
    },
    "tags": []
   },
   "outputs": [],
   "source": [
    "print(f1.metadata.contents)"
   ]
  },
  {
   "cell_type": "code",
   "execution_count": null,
   "id": "540ff76c-e188-462c-a199-e0895fd0cd37",
   "metadata": {
    "tags": []
   },
   "outputs": [],
   "source": [
    "## alt method for getting the lables\n",
    "{getattr(f1.metadata.contents,s):s.replace('Count','') for s in dir(f1.metadata.contents) if not s.startswith('_')}"
   ]
  },
  {
   "cell_type": "code",
   "execution_count": null,
   "id": "8b1d232c-fa84-4b36-bbba-ace46d6711ed",
   "metadata": {
    "tags": []
   },
   "outputs": [],
   "source": [
    "## alt method for getting the lables\n",
    "{getattr(f1.attributes,k):k.replace('Count','') for k in dir(f1.attributes) if not k.startswith('_') and k.endswith('Count') and not k.startswith('component')}"
   ]
  },
  {
   "cell_type": "markdown",
   "id": "826b70a0-37a4-4b4e-abd8-7e6e2b70c8bf",
   "metadata": {},
   "source": [
    "## Save the 2D arrays"
   ]
  },
  {
   "cell_type": "code",
   "execution_count": null,
   "id": "196afddb-f887-40fe-a2ce-248d315d7fc2",
   "metadata": {},
   "outputs": [],
   "source": [
    "def save_channels(\n",
    "    f1,\n",
    "    output_dir_path,\n",
    "    ):\n",
    "    a1=f1.asarray()\n",
    "    assert a1.shape[0]==f1.metadata.contents.channelCount==len(channels) and len(a1.shape)==3, a1.shape\n",
    "\n",
    "    ## get the channel\n",
    "    for i,k in channels.items():\n",
    "        makedirs(\n",
    "            output_dir_path,\n",
    "            exist_ok=True,\n",
    "            )\n",
    "        ## slice an image\n",
    "        a2=a1[zstack,i,:,:] if not zstack is None else a1[i,:,:]\n",
    "        assert len(a2.shape)==2, a2.shape\n",
    "\n",
    "        np.save(\n",
    "            f\"{output_dir_path}/{k}.npy\",\n",
    "             a2,\n",
    "            )\n",
    "        fig,ax=plt.subplots()\n",
    "        ax.imshow(\n",
    "            a2,\n",
    "            vmin=100,\n",
    "            vmax=200,\n",
    "        )\n",
    "        ax.set_title(f\"channel={k}\")    \n",
    "    # break\n",
    "    return a1"
   ]
  },
  {
   "cell_type": "code",
   "execution_count": null,
   "id": "aea03dfb-e777-42c5-8061-c9d11794a4ab",
   "metadata": {},
   "outputs": [],
   "source": [
    "if f1.metadata.contents.frameCount!=1 and zstack is None:\n",
    "    import sys\n",
    "    import logging\n",
    "    logging.error(f\"zstack found in {input_path} of contents. skipping the file. shape={f1.asarray().shape}\")\n",
    "    # sys.exit(0)\n",
    "else:\n",
    "    ## get the frames\n",
    "    a1=save_channels(\n",
    "    f1,\n",
    "    output_dir_path,\n",
    "    )"
   ]
  }
 ],
 "metadata": {
  "kernelspec": {
   "display_name": "imaging_nd2",
   "language": "python",
   "name": "imaging_nd2"
  },
  "language_info": {
   "codemirror_mode": {
    "name": "ipython",
    "version": 3
   },
   "file_extension": ".py",
   "mimetype": "text/x-python",
   "name": "python",
   "nbconvert_exporter": "python",
   "pygments_lexer": "ipython3",
   "version": "3.7.12"
  }
 },
 "nbformat": 4,
 "nbformat_minor": 5
}
