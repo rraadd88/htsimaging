{
 "cells": [
  {
   "cell_type": "markdown",
   "id": "9356e641-2652-4201-9c14-afc3250b7790",
   "metadata": {
    "papermill": {
     "duration": 0.006945,
     "end_time": "2023-11-27T21:39:31.133637",
     "exception": false,
     "start_time": "2023-11-27T21:39:31.126692",
     "status": "completed"
    },
    "tags": []
   },
   "source": [
    "---\n",
    "## 💾 Reading the channels and frames from Nikon microscope images with `.nd2` format"
   ]
  },
  {
   "cell_type": "code",
   "execution_count": null,
   "id": "a5796615-b079-4070-a484-b4c6f32f57e1",
   "metadata": {},
   "outputs": [],
   "source": [
    "## Requirements\n",
    "#!pip install nd2 xrray scipy netCDF4==1.6.4"
   ]
  },
  {
   "cell_type": "code",
   "execution_count": null,
   "id": "8ecbdfa8-153d-479c-8f2d-3a32ad8de9f7",
   "metadata": {
    "papermill": {
     "duration": 0.581336,
     "end_time": "2023-11-27T21:39:31.725412",
     "exception": false,
     "start_time": "2023-11-27T21:39:31.144076",
     "status": "completed"
    },
    "tags": []
   },
   "outputs": [],
   "source": [
    "## libraries\n",
    "import logging\n",
    "logging.getLogger().setLevel(logging.INFO)\n",
    "\n",
    "import pandas as pd\n",
    "import matplotlib.pyplot as plt\n",
    "from os.path import dirname,splitext\n",
    "from os import makedirs\n",
    "\n",
    "import nd2 \n",
    "import numpy as np"
   ]
  },
  {
   "cell_type": "code",
   "execution_count": null,
   "id": "f99c370c-7d0b-4bf4-9733-8760267e9df7",
   "metadata": {
    "papermill": {
     "duration": 0.006736,
     "end_time": "2023-11-27T21:39:31.739283",
     "exception": false,
     "start_time": "2023-11-27T21:39:31.732547",
     "status": "completed"
    },
    "tags": [
     "parameters"
    ]
   },
   "outputs": [],
   "source": [
    "## parameters\n",
    "input_path=None\n",
    "output_path=None\n",
    "\n",
    "renames={'P': 'well', 'C': 'channel'} ## rename dim labels"
   ]
  },
  {
   "cell_type": "markdown",
   "id": "bcc4f22d-c0b7-420e-b7a4-f878218af513",
   "metadata": {},
   "source": [
    "## Input"
   ]
  },
  {
   "cell_type": "code",
   "execution_count": null,
   "id": "b89e1e6e-2dd6-4a42-b413-41f30dc02517",
   "metadata": {
    "papermill": {
     "duration": 0.048772,
     "end_time": "2023-11-27T21:39:31.808544",
     "exception": false,
     "start_time": "2023-11-27T21:39:31.759772",
     "status": "completed"
    },
    "tags": []
   },
   "outputs": [],
   "source": [
    "f1 = nd2.ND2File(input_path)"
   ]
  },
  {
   "cell_type": "markdown",
   "id": "9c99cb32-4d12-4882-80bf-bd7373106559",
   "metadata": {
    "tags": []
   },
   "source": [
    "## Image info"
   ]
  },
  {
   "cell_type": "code",
   "execution_count": null,
   "id": "f4fc8d29-ad63-4140-91b3-03c47b92b114",
   "metadata": {
    "scrolled": true,
    "tags": []
   },
   "outputs": [],
   "source": [
    "print(('\\n'+'-'*50+'\\n').join([f\"{k}\\n{'-'*50}\\n{v}\" for k,v in f1.text_info.items()]))"
   ]
  },
  {
   "cell_type": "markdown",
   "id": "b7a69bc8-d3bb-46fa-a17e-a26af383a582",
   "metadata": {},
   "source": [
    "### Dimensions"
   ]
  },
  {
   "cell_type": "code",
   "execution_count": null,
   "id": "73e6b318-a1f7-4ddf-a547-95aa7a370c27",
   "metadata": {
    "tags": []
   },
   "outputs": [],
   "source": [
    "print(f1.sizes)"
   ]
  },
  {
   "cell_type": "markdown",
   "id": "55acaf8d-1908-45f1-8d6e-9cec016fdd64",
   "metadata": {},
   "source": [
    "### Channel names"
   ]
  },
  {
   "cell_type": "code",
   "execution_count": null,
   "id": "12d13301-abe6-4233-86f6-8b18b48b975b",
   "metadata": {
    "papermill": {
     "duration": 0.007727,
     "end_time": "2023-11-27T21:39:31.817738",
     "exception": false,
     "start_time": "2023-11-27T21:39:31.810011",
     "status": "completed"
    },
    "tags": []
   },
   "outputs": [],
   "source": [
    "channels={d.channel.index:d.channel.name.lower() for d in f1.metadata.channels}\n",
    "logging.info(channels)"
   ]
  },
  {
   "cell_type": "markdown",
   "id": "2d3a840e-feda-40bb-95a2-cbc3e2fa6c41",
   "metadata": {},
   "source": [
    "### Dimension names"
   ]
  },
  {
   "cell_type": "code",
   "execution_count": null,
   "id": "5059c536-da03-4023-9160-7f534b4fe8ee",
   "metadata": {
    "papermill": {
     "duration": 0.006059,
     "end_time": "2023-11-27T21:39:31.825263",
     "exception": false,
     "start_time": "2023-11-27T21:39:31.819204",
     "status": "completed"
    },
    "tags": []
   },
   "outputs": [],
   "source": [
    "print(f1.metadata.contents)"
   ]
  },
  {
   "cell_type": "code",
   "execution_count": null,
   "id": "540ff76c-e188-462c-a199-e0895fd0cd37",
   "metadata": {
    "tags": []
   },
   "outputs": [],
   "source": [
    "## alt method for getting the lables\n",
    "{getattr(f1.metadata.contents,s):s.replace('Count','') for s in dir(f1.metadata.contents) if not s.startswith('_')}"
   ]
  },
  {
   "cell_type": "code",
   "execution_count": null,
   "id": "8b1d232c-fa84-4b36-bbba-ace46d6711ed",
   "metadata": {
    "tags": []
   },
   "outputs": [],
   "source": [
    "## alt method for getting the lables\n",
    "{getattr(f1.attributes,k):k.replace('Count','') for k in dir(f1.attributes) if not k.startswith('_') and k.endswith('Count') and not k.startswith('component')}"
   ]
  },
  {
   "cell_type": "code",
   "execution_count": null,
   "id": "99310895-6bc1-46f6-b6a7-6cd6cc807704",
   "metadata": {},
   "outputs": [],
   "source": [
    "dims={renames[k]:v for k,v in f1.sizes.items() if not k in ['X','Y']}\n",
    "dims"
   ]
  },
  {
   "cell_type": "markdown",
   "id": "0becb400-044d-481d-8730-7cad6fb3c985",
   "metadata": {},
   "source": [
    "## Output"
   ]
  },
  {
   "cell_type": "code",
   "execution_count": null,
   "id": "1de4fa1d-0740-4b2a-a788-488618bc2f52",
   "metadata": {},
   "outputs": [],
   "source": [
    "## \n",
    "da=f1.to_xarray()\n",
    "da=da.rename(renames)\n",
    "da"
   ]
  },
  {
   "cell_type": "markdown",
   "id": "95510e12-24f7-4829-97bf-a991a1c8a6b3",
   "metadata": {},
   "source": [
    "## Save images"
   ]
  },
  {
   "cell_type": "code",
   "execution_count": 16,
   "id": "12b16e87-ea76-4a9f-b29e-e191300c9630",
   "metadata": {
    "tags": []
   },
   "outputs": [],
   "source": [
    "## convert potenntially incompatible datatypes in metadata to `str` \n",
    "da=da.assign_attrs(\n",
    "    metadata=str(da.attrs['metadata']),\n",
    ")"
   ]
  },
  {
   "cell_type": "code",
   "execution_count": null,
   "id": "735c865e-4d81-4172-aa78-a0b682ca35f5",
   "metadata": {
    "tags": []
   },
   "outputs": [],
   "source": [
    "da.to_netcdf(output_path)"
   ]
  }
 ],
 "metadata": {
  "kernelspec": {
   "display_name": "imaging_nd2",
   "language": "python",
   "name": "imaging_nd2"
  },
  "language_info": {
   "codemirror_mode": {
    "name": "ipython",
    "version": 3
   },
   "file_extension": ".py",
   "mimetype": "text/x-python",
   "name": "python",
   "nbconvert_exporter": "python",
   "pygments_lexer": "ipython3",
   "version": "3.7.12"
  },
  "papermill": {
   "default_parameters": {},
   "duration": 2.019671,
   "end_time": "2023-11-27T21:39:32.381455",
   "environment_variables": {},
   "exception": null,
   "input_path": "../../../../code/htsimaging/examples/io_read_nd2.ipynb",
   "output_path": "../pre_processed//validations//ROS//replicate1/20231103_media_CFDA_channels/epi_gfp_reports/20231127T163930_io_read_nd2.ipynb",
   "parameters": {
    "input_path": "../data/validations//ROS//replicate1/20231103_media_CFDA.nd2",
    "output_path": "../pre_processed//validations//ROS//replicate1/20231103_media_CFDA_channels/epi_gfp.npy"
   },
   "start_time": "2023-11-27T21:39:30.361784",
   "version": "2.4.0"
  }
 },
 "nbformat": 4,
 "nbformat_minor": 5
}
