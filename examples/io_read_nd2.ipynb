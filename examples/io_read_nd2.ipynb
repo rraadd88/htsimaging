{
 "cells": [
  {
   "cell_type": "markdown",
   "id": "9356e641-2652-4201-9c14-afc3250b7790",
   "metadata": {},
   "source": [
    "---\n",
    "## Reading the channels from Nikon microscope images with `.nd2` format"
   ]
  },
  {
   "cell_type": "code",
   "execution_count": null,
   "id": "8ecbdfa8-153d-479c-8f2d-3a32ad8de9f7",
   "metadata": {},
   "outputs": [],
   "source": [
    "## requirements\n",
    "import logging\n",
    "logging.getLogger().setLevel(logging.INFO)\n",
    "\n",
    "import pandas as pd\n",
    "import matplotlib.pyplot as plt\n",
    "from os.path import dirname,splitext\n",
    "from os import makedirs\n",
    "\n",
    "#!pip install nd2\n",
    "import nd2 \n",
    "import numpy as np"
   ]
  },
  {
   "cell_type": "code",
   "execution_count": null,
   "id": "f99c370c-7d0b-4bf4-9733-8760267e9df7",
   "metadata": {
    "tags": [
     "parameters"
    ]
   },
   "outputs": [],
   "source": [
    "## parameters\n",
    "input_path=None\n",
    "output_path=None\n",
    "zstack=None"
   ]
  },
  {
   "cell_type": "code",
   "execution_count": null,
   "id": "e42ac4ba-b715-4f57-b938-6a16d6d14635",
   "metadata": {},
   "outputs": [],
   "source": [
    "## inferred parameters\n",
    "assert dirname(output_path).endswith('channels')\n",
    "output_dir_path=dirname(output_path)+'/'\n",
    "logging.info(output_dir_path)"
   ]
  },
  {
   "cell_type": "code",
   "execution_count": null,
   "id": "b89e1e6e-2dd6-4a42-b413-41f30dc02517",
   "metadata": {},
   "outputs": [],
   "source": [
    "f1 = nd2.ND2File(input_path)"
   ]
  },
  {
   "cell_type": "code",
   "execution_count": null,
   "id": "94298d6c-e340-46e9-87dd-3ff4a68e2430",
   "metadata": {},
   "outputs": [],
   "source": [
    "channels={d.channel.index:d.channel.name.lower() for d in f1.metadata.channels}\n",
    "logging.info(channels)"
   ]
  },
  {
   "cell_type": "code",
   "execution_count": null,
   "id": "badcfe78-487f-400b-b826-7f3cba638a18",
   "metadata": {},
   "outputs": [],
   "source": [
    "print(f1.metadata.contents)"
   ]
  },
  {
   "cell_type": "code",
   "execution_count": null,
   "id": "196afddb-f887-40fe-a2ce-248d315d7fc2",
   "metadata": {},
   "outputs": [],
   "source": [
    "def save_channels(\n",
    "    f1,\n",
    "    output_dir_path,\n",
    "    ):\n",
    "    a1=f1.asarray()\n",
    "    assert a1.shape[0]==f1.metadata.contents.channelCount==len(channels) and len(a1.shape)==3, a1.shape\n",
    "\n",
    "    ## get the channel\n",
    "    for i,k in channels.items():\n",
    "        makedirs(\n",
    "            output_dir_path,\n",
    "            exist_ok=True,\n",
    "            )\n",
    "        ## slice an image\n",
    "        a2=a1[zstack,i,:,:] if not zstack is None else a1[i,:,:]\n",
    "        assert len(a2.shape)==2, a2.shape\n",
    "\n",
    "        np.save(\n",
    "            f\"{output_dir_path}/{k}.npy\",\n",
    "             a2,\n",
    "            )\n",
    "        fig,ax=plt.subplots()\n",
    "        ax.imshow(\n",
    "            a2,\n",
    "            vmin=100,\n",
    "            vmax=200,\n",
    "        )\n",
    "        ax.set_title(f\"channel={k}\")    \n",
    "    # break\n",
    "    return a1"
   ]
  },
  {
   "cell_type": "code",
   "execution_count": null,
   "id": "aea03dfb-e777-42c5-8061-c9d11794a4ab",
   "metadata": {},
   "outputs": [],
   "source": [
    "if f1.metadata.contents.frameCount!=1 and zstack is None:\n",
    "    import sys\n",
    "    import logging\n",
    "    logging.error(f\"zstack found in {input_path} of contents. skipping the file. shape={f1.asarray().shape}\")\n",
    "    # sys.exit(0)\n",
    "else:\n",
    "    ## get the frames\n",
    "    a1=save_channels(\n",
    "    f1,\n",
    "    output_dir_path,\n",
    "    )"
   ]
  }
 ],
 "metadata": {
  "kernelspec": {
   "display_name": "imaging_nd2",
   "language": "python",
   "name": "imaging_nd2"
  },
  "language_info": {
   "codemirror_mode": {
    "name": "ipython",
    "version": 3
   },
   "file_extension": ".py",
   "mimetype": "text/x-python",
   "name": "python",
   "nbconvert_exporter": "python",
   "pygments_lexer": "ipython3",
   "version": "3.7.12"
  }
 },
 "nbformat": 4,
 "nbformat_minor": 5
}
